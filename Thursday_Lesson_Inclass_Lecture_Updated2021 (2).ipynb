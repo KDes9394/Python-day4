{
 "cells": [
  {
   "cell_type": "markdown",
   "source": [
    "# Object-Oriented-Programming (OOP)"
   ],
   "metadata": {}
  },
  {
   "cell_type": "markdown",
   "source": [
    "## Tasks Today:\n",
    "\n",
    "   \n",
    "\n",
    "1) <b>Creating a Class (Initializing/Declaring)</b> <br>\n",
    "2) <b>Using a Class (Instantiating)</b> <br>\n",
    " &nbsp;&nbsp;&nbsp;&nbsp; a) Creating One Instance <br>\n",
    " &nbsp;&nbsp;&nbsp;&nbsp; b) Creating Multiple Instances <br>\n",
    " &nbsp;&nbsp;&nbsp;&nbsp; c) In-Class Exercise #1 - Create a Class 'Car' and instantiate three different makes of cars <br>\n",
    "3) <b>The \\__init\\__() Method</b> <br>\n",
    " &nbsp;&nbsp;&nbsp;&nbsp; a) The 'self' Attribute <br>\n",
    "4) <b>Class Attributes</b> <br>\n",
    " &nbsp;&nbsp;&nbsp;&nbsp; a) Initializing Attributes <br>\n",
    " &nbsp;&nbsp;&nbsp;&nbsp; b) Setting an Attribute Outside of the \\__init\\__() Method <br>\n",
    " &nbsp;&nbsp;&nbsp;&nbsp; c) Setting Defaults for Attributes <br>\n",
    " &nbsp;&nbsp;&nbsp;&nbsp; d) Accessing Class Attributes <br>\n",
    " &nbsp;&nbsp;&nbsp;&nbsp; e) Changing Class Attributes <br>\n",
    " &nbsp;&nbsp;&nbsp;&nbsp; f) In-Class Exercise #2 - Add a color and wheels attribute to your 'Car' class <br>\n",
    "5) <b>Class Methods</b> <br>\n",
    " &nbsp;&nbsp;&nbsp;&nbsp; a) Creating <br>\n",
    " &nbsp;&nbsp;&nbsp;&nbsp; b) Calling <br>\n",
    " &nbsp;&nbsp;&nbsp;&nbsp; c) Modifying an Attribute's Value Through a Method <br>\n",
    " &nbsp;&nbsp;&nbsp;&nbsp; d) Incrementing an Attribute's Value Through a Method <br>\n",
    " &nbsp;&nbsp;&nbsp;&nbsp; e) In-Class Exercise #3 - Add a method that prints the cars color and wheel number, then call them <br>\n",
    "6) <b>Inheritance</b> <br>\n",
    " &nbsp;&nbsp;&nbsp;&nbsp; a) Syntax for Inheriting from a Parent Class <br>\n",
    " &nbsp;&nbsp;&nbsp;&nbsp; b) The \\__init\\__() Method for a Child Class (super()) <br>\n",
    " &nbsp;&nbsp;&nbsp;&nbsp; c) Defining Attributes and Methods for the Child Class <br>\n",
    " &nbsp;&nbsp;&nbsp;&nbsp; d) Method Overriding <br>\n",
    " &nbsp;&nbsp;&nbsp;&nbsp; e) In-Class Exercise #4 - Create a class 'Ford' that inherits from 'Car' class and initialize it as a Blue Ford Explorer with 4 wheels using the super() method <br>\n",
    "7) <b>Classes as Attributes</b> <br>\n",
    "8) <b>Exercises</b> <br>\n",
    " &nbsp;&nbsp;&nbsp;&nbsp; a) Exercise #1 - Turn the shopping cart program from yesterday into an object-oriented program <br>"
   ],
   "metadata": {}
  },
  {
   "cell_type": "markdown",
   "source": [
    "### Shopping Cart Example"
   ],
   "metadata": {}
  },
  {
   "cell_type": "code",
   "execution_count": 7,
   "source": [
    "from IPython.display import clear_output\n",
    "\n",
    "# Create a global car variable\n",
    "\n",
    "cart = []\n",
    "\n",
    "# Add to cart function\n",
    "def add_item(item):\n",
    "    clear_output()\n",
    "    cart.append(item)\n",
    "    show_cart()\n",
    "    \n",
    "# Remove item from cart function\n",
    "def remove_item(item):\n",
    "    clear_output()\n",
    "    if item in cart:\n",
    "        cart.remove(item)\n",
    "\n",
    "# Show Cart Function\n",
    "def show_cart():\n",
    "    clear_output()\n",
    "    for item in cart:\n",
    "        print(item)\n",
    "        \n",
    "# Clear cart Function\n",
    "def clear_cart():\n",
    "    clear_output()\n",
    "    cart.clear()\n",
    "    print(\"Your cart is now empty\")\n",
    "    \n",
    "# Create the main function that will loop and ask user for input until user quit\n",
    "def shopping_cart():\n",
    "    while True:\n",
    "        response = input(\"What do you want to do? Add/Remove/Show/Clear or Quit? \").lower()\n",
    "        \n",
    "        if response == 'quit':\n",
    "            print(\"Thank you for shopping with us!\")\n",
    "            show_cart()\n",
    "            break\n",
    "            \n",
    "        elif response == 'add':\n",
    "            item = input(\"What would you like to add to your cart? \")\n",
    "            add_item(item)\n",
    "            \n",
    "        elif response == 'remove':\n",
    "            print(\"Here is your cart:\")\n",
    "            show_cart()\n",
    "            item = input(\"What item would you like to remove\")\n",
    "            remove_item(item)\n",
    "            \n",
    "        elif response == 'show':\n",
    "            show_cart()\n",
    "            \n",
    "        elif response == 'clear':\n",
    "            check = input('Are you sure you want to clear your cart? y/n').lower()\n",
    "            if check == 'y':\n",
    "                clear_cart()\n",
    "        \n",
    "        else:\n",
    "            print(\"Sorry that was not a valid option. Please try again!\")\n",
    "            \n",
    "shopping_cart()         "
   ],
   "outputs": [
    {
     "output_type": "stream",
     "name": "stdout",
     "text": [
      "apple\n",
      "banana\n"
     ]
    }
   ],
   "metadata": {}
  },
  {
   "cell_type": "code",
   "execution_count": null,
   "source": [
    "# Circumference of a cirle\n"
   ],
   "outputs": [],
   "metadata": {}
  },
  {
   "cell_type": "markdown",
   "source": [
    "## Creating a Class (Initializing/Declaring)\n",
    "<p>When creating a class, function, or even a variable you are initializing that object. Initializing and Declaring occur at the same time in Python, whereas in lower level languages you have to declare an object before initializing it. This is the first step in the process of using a class.</p>"
   ],
   "metadata": {}
  },
  {
   "cell_type": "code",
   "execution_count": 10,
   "source": [
    "class Car():\n",
    "    pass\n",
    "\n",
    "help(Car)\n",
    "print(Car.__dict__)"
   ],
   "outputs": [
    {
     "output_type": "stream",
     "name": "stdout",
     "text": [
      "Help on class Car in module __main__:\n",
      "\n",
      "class Car(builtins.object)\n",
      " |  Data descriptors defined here:\n",
      " |  \n",
      " |  __dict__\n",
      " |      dictionary for instance variables (if defined)\n",
      " |  \n",
      " |  __weakref__\n",
      " |      list of weak references to the object (if defined)\n",
      "\n",
      "{'__module__': '__main__', '__dict__': <attribute '__dict__' of 'Car' objects>, '__weakref__': <attribute '__weakref__' of 'Car' objects>, '__doc__': None}\n"
     ]
    }
   ],
   "metadata": {}
  },
  {
   "cell_type": "markdown",
   "source": [
    "## Using a Class (Instantiating)\n",
    "<p>The process of creating a class is called <i>Instantiating</i>. Each time you create a variable of that type of class, it is referred to as an <i>Instance</i> of that class. This is the second step in the process of using a class.</p>"
   ],
   "metadata": {}
  },
  {
   "cell_type": "code",
   "execution_count": 13,
   "source": [
    "a_list = [1, 2, 3, 4]\n",
    "b_list = [4, 3, 2, 1]\n",
    "\n",
    "b_list.append(0)\n",
    "print(b_list)\n",
    "print(a_list)"
   ],
   "outputs": [
    {
     "output_type": "stream",
     "name": "stdout",
     "text": [
      "[4, 3, 2, 1, 0]\n",
      "[1, 2, 3, 4]\n"
     ]
    }
   ],
   "metadata": {}
  },
  {
   "cell_type": "markdown",
   "source": [
    "##### Creating One Instance"
   ],
   "metadata": {}
  },
  {
   "cell_type": "code",
   "execution_count": 14,
   "source": [
    "ford = Car()\n",
    "\n",
    "print(ford)"
   ],
   "outputs": [
    {
     "output_type": "stream",
     "name": "stdout",
     "text": [
      "<__main__.Car object at 0x00000286380AA670>\n"
     ]
    }
   ],
   "metadata": {}
  },
  {
   "cell_type": "markdown",
   "source": [
    "##### Creating Multiple Instances"
   ],
   "metadata": {}
  },
  {
   "cell_type": "code",
   "execution_count": 16,
   "source": [
    "chevy = Car()\n",
    "print(chevy)\n",
    "\n",
    "honda = Car()\n",
    "porsche = Car()\n",
    "\n",
    "print(honda)\n",
    "print(porsche)"
   ],
   "outputs": [
    {
     "output_type": "stream",
     "name": "stdout",
     "text": [
      "<__main__.Car object at 0x00000286380AAC70>\n",
      "<__main__.Car object at 0x00000286380AA2B0>\n",
      "<__main__.Car object at 0x00000286380526D0>\n"
     ]
    }
   ],
   "metadata": {}
  },
  {
   "cell_type": "code",
   "execution_count": 17,
   "source": [
    "ford.color = 'Blue'\n",
    "chevy.color = 'Green'\n",
    "honda.color = 'Orange'\n",
    "porsche.color = 'Pink'"
   ],
   "outputs": [],
   "metadata": {}
  },
  {
   "cell_type": "code",
   "execution_count": 18,
   "source": [
    "cars = [ford, chevy, honda, porsche]\n",
    "\n",
    "for car in cars:\n",
    "    print(f'The {car} is {car.color}')"
   ],
   "outputs": [
    {
     "output_type": "stream",
     "name": "stdout",
     "text": [
      "The <__main__.Car object at 0x00000286380AA670> is Blue\n",
      "The <__main__.Car object at 0x00000286380AAC70> is Green\n",
      "The <__main__.Car object at 0x00000286380AA2B0> is Orange\n",
      "The <__main__.Car object at 0x00000286380526D0> is Pink\n"
     ]
    }
   ],
   "metadata": {}
  },
  {
   "cell_type": "code",
   "execution_count": 19,
   "source": [
    "ford.make = 'Mustang'\n",
    "ford.wheels = 4"
   ],
   "outputs": [],
   "metadata": {}
  },
  {
   "cell_type": "code",
   "execution_count": 24,
   "source": [
    "ford.__dict__"
   ],
   "outputs": [
    {
     "output_type": "execute_result",
     "data": {
      "text/plain": [
       "{'color': 'Blue', 'make': 'Mustang', 'wheels': 4}"
      ]
     },
     "metadata": {},
     "execution_count": 24
    }
   ],
   "metadata": {}
  },
  {
   "cell_type": "markdown",
   "source": [
    "##### In-Class Exercise #1 - Create a Class 'Car' and Instantiate three different makes of cars"
   ],
   "metadata": {}
  },
  {
   "cell_type": "code",
   "execution_count": null,
   "source": [],
   "outputs": [],
   "metadata": {}
  },
  {
   "cell_type": "markdown",
   "source": [
    "## The \\__init\\__() Method <br>\n",
    "<p>This method is used in almost every created class, and called only once upon the creation of the class instance. This method will initialize all variables needed for the object.</p>"
   ],
   "metadata": {}
  },
  {
   "cell_type": "code",
   "execution_count": 48,
   "source": [
    "class Car():\n",
    "    \n",
    "#     Create the __init__ method AKA the constructor method\n",
    "    def __init__(self, color, make, model):\n",
    "        self.color = color\n",
    "        self.make = make\n",
    "        self.model = model\n",
    "        self.wheels = 4 # Default attribute\n",
    "        \n",
    "    def __str__(self):\n",
    "        return f'This is a {self.make} {self.model} that is {self.color} and has {self.wheels} wheels'\n",
    "        \n",
    "ford = Car('blue', 'Ford', 'Mustang')\n",
    "toyota = Car('red', 'Toyota', 'Camry')"
   ],
   "outputs": [],
   "metadata": {}
  },
  {
   "cell_type": "code",
   "execution_count": 52,
   "source": [
    "Car.__str__(toyota) # equivalent to toyota.__str__()"
   ],
   "outputs": [
    {
     "output_type": "execute_result",
     "data": {
      "text/plain": [
       "'This is a Toyota Camry that is red and has 4 wheels'"
      ]
     },
     "metadata": {},
     "execution_count": 52
    }
   ],
   "metadata": {}
  },
  {
   "cell_type": "code",
   "execution_count": 41,
   "source": [
    "toyota.color = 'green'"
   ],
   "outputs": [],
   "metadata": {}
  },
  {
   "cell_type": "code",
   "execution_count": 42,
   "source": [
    "toyota.__dict__"
   ],
   "outputs": [
    {
     "output_type": "execute_result",
     "data": {
      "text/plain": [
       "{'color': 'green', 'make': 'Toyota', 'model': 'Camry', 'wheels': 4}"
      ]
     },
     "metadata": {},
     "execution_count": 42
    }
   ],
   "metadata": {}
  },
  {
   "cell_type": "code",
   "execution_count": 43,
   "source": [
    "dir(toyota)"
   ],
   "outputs": [
    {
     "output_type": "execute_result",
     "data": {
      "text/plain": [
       "['__class__',\n",
       " '__delattr__',\n",
       " '__dict__',\n",
       " '__dir__',\n",
       " '__doc__',\n",
       " '__eq__',\n",
       " '__format__',\n",
       " '__ge__',\n",
       " '__getattribute__',\n",
       " '__gt__',\n",
       " '__hash__',\n",
       " '__init__',\n",
       " '__init_subclass__',\n",
       " '__le__',\n",
       " '__lt__',\n",
       " '__module__',\n",
       " '__ne__',\n",
       " '__new__',\n",
       " '__reduce__',\n",
       " '__reduce_ex__',\n",
       " '__repr__',\n",
       " '__setattr__',\n",
       " '__sizeof__',\n",
       " '__str__',\n",
       " '__subclasshook__',\n",
       " '__weakref__',\n",
       " 'color',\n",
       " 'make',\n",
       " 'model',\n",
       " 'wheels']"
      ]
     },
     "metadata": {},
     "execution_count": 43
    }
   ],
   "metadata": {}
  },
  {
   "cell_type": "markdown",
   "source": [
    "##### The 'self' Attribute <br>\n",
    "<p>This attribute is required to keep track of specific instance's attributes. Without the self attribute, the program would not know how to reference or keep track of an instance's attributes.</p>"
   ],
   "metadata": {}
  },
  {
   "cell_type": "code",
   "execution_count": null,
   "source": [
    "# see above"
   ],
   "outputs": [],
   "metadata": {}
  },
  {
   "cell_type": "markdown",
   "source": [
    "## Class Attributes <br>\n",
    "<p>While variables are inside of a class, they are referred to as attributes and not variables. When someone says 'attribute' you know they're speaking about a class. Attributes can be initialized through the init method, or outside of it.</p>"
   ],
   "metadata": {}
  },
  {
   "cell_type": "markdown",
   "source": [
    "##### Initializing Attributes"
   ],
   "metadata": {}
  },
  {
   "cell_type": "code",
   "execution_count": 77,
   "source": [
    "class Truck():\n",
    "    wheels = 4\n",
    "    \n",
    "    def __init__(self, color, make):\n",
    "        self.color = color\n",
    "        self.make = make"
   ],
   "outputs": [],
   "metadata": {}
  },
  {
   "cell_type": "markdown",
   "source": [
    "##### Accessing Class Attributes"
   ],
   "metadata": {}
  },
  {
   "cell_type": "code",
   "execution_count": null,
   "source": [
    "# See Above"
   ],
   "outputs": [],
   "metadata": {
    "scrolled": true
   }
  },
  {
   "cell_type": "markdown",
   "source": [
    "##### Setting Defaults for Attributes"
   ],
   "metadata": {}
  },
  {
   "cell_type": "code",
   "execution_count": 70,
   "source": [
    "class Bike():\n",
    "    \n",
    "    def __init__(self, c, b='Schwinn'):\n",
    "        self.color = c\n",
    "        self.brand = b\n",
    "        self.wheels = 2 #Default Attribute\n",
    "        \n",
    "my_bike = Bike('blue', 'Giant')"
   ],
   "outputs": [],
   "metadata": {}
  },
  {
   "cell_type": "code",
   "execution_count": 73,
   "source": [
    "my_bike.wheels = 3"
   ],
   "outputs": [],
   "metadata": {}
  },
  {
   "cell_type": "code",
   "execution_count": 74,
   "source": [
    "my_bike.wheels"
   ],
   "outputs": [
    {
     "output_type": "execute_result",
     "data": {
      "text/plain": [
       "3"
      ]
     },
     "metadata": {},
     "execution_count": 74
    }
   ],
   "metadata": {}
  },
  {
   "cell_type": "markdown",
   "source": [
    "##### Changing Class Attributes <br>\n",
    "<p>Keep in mind there are global class attributes and then there are attributes only available to each class instance which won't effect other classes.</p>"
   ],
   "metadata": {}
  },
  {
   "cell_type": "code",
   "execution_count": 81,
   "source": [
    "class Truck():\n",
    "    wheels = 4 # Class attribute\n",
    "    \n",
    "    def __init__(self, color, make):\n",
    "        self.color = color # instance attributes\n",
    "        self.make = make"
   ],
   "outputs": [],
   "metadata": {}
  },
  {
   "cell_type": "code",
   "execution_count": 82,
   "source": [
    "truck1 = Truck('black', 'Ford')\n",
    "truck2 = Truck('white', 'GM')"
   ],
   "outputs": [],
   "metadata": {}
  },
  {
   "cell_type": "code",
   "execution_count": 87,
   "source": [
    "print(truck1.wheels)\n",
    "print(truck2.wheels)\n",
    "print()\n",
    "truck1.wheels = 16 # Sets an Instance Attribute on truck1\n",
    "print(truck1.wheels)\n",
    "print(truck2.wheels)\n",
    "print()\n",
    "Truck.wheels = 24 # Changes the Class attribute on Truck\n",
    "print(truck1.wheels)\n",
    "print(truck2.wheels)\n",
    "print()\n",
    "print(\"truck1:\",truck1.__dict__)\n",
    "print(\"truck2:\",truck2.__dict__)\n",
    "print(\"Truck Class:\",Truck.__dict__)"
   ],
   "outputs": [
    {
     "output_type": "stream",
     "name": "stdout",
     "text": [
      "16\n",
      "24\n",
      "\n",
      "16\n",
      "24\n",
      "\n",
      "16\n",
      "24\n",
      "\n",
      "truck1: {'color': 'black', 'make': 'Ford', 'wheels': 16}\n",
      "truck2: {'color': 'white', 'make': 'GM'}\n",
      "Truck Class: {'__module__': '__main__', 'wheels': 24, '__init__': <function Truck.__init__ at 0x000002863816C040>, '__dict__': <attribute '__dict__' of 'Truck' objects>, '__weakref__': <attribute '__weakref__' of 'Truck' objects>, '__doc__': None}\n"
     ]
    }
   ],
   "metadata": {}
  },
  {
   "cell_type": "markdown",
   "source": [
    "##### In-Class Exercise #2 - Add a doors and seats attribute to a new 'Car' class then print out two different instances with different doors and seats"
   ],
   "metadata": {}
  },
  {
   "cell_type": "code",
   "execution_count": null,
   "source": [],
   "outputs": [],
   "metadata": {}
  },
  {
   "cell_type": "markdown",
   "source": [
    "## Class Methods <br>\n",
    "<p>While inside of a class, functions are referred to as 'methods'. If you hear someone mention methods, they're speaking about classes. Methods are essentially functions, but only callable on the instances of a class.</p>"
   ],
   "metadata": {}
  },
  {
   "cell_type": "markdown",
   "source": [
    "##### Creating"
   ],
   "metadata": {}
  },
  {
   "cell_type": "code",
   "execution_count": 152,
   "source": [
    "class Cart():\n",
    "    def __init__(self, product):\n",
    "        self.product = product\n",
    "        self.last = last\n",
    "        self.salary = salary\n",
    "        self.email = first + \".\" + last + \"@company.org\"\n",
    "        \n",
    "    def full_name(self):\n",
    "        return f'{self.first} {self.last}'\n",
    "    \n",
    "    def apply_raise(self):\n",
    "        self.salary = int(self.salary * self.raise_amount)\n",
    "        \n",
    "    def change_last_name(self, last):\n",
    "        self.last = last\n",
    "        self.email = self.first + \".\" + last + \"@company.org\"\n",
    "        \n",
    "    def add_health_benefits(self, provider):\n",
    "        self.insurance = provider\n",
    "    \n",
    "    \n",
    "emp_1 = Cart(product)\n",
    "emp_2 = Employee('Sergio', 'Aguero', 100000)"
   ],
   "outputs": [],
   "metadata": {}
  },
  {
   "cell_type": "code",
   "execution_count": 144,
   "source": [
    "emp_1.email"
   ],
   "outputs": [
    {
     "output_type": "execute_result",
     "data": {
      "text/plain": [
       "'Leo.Messi@company.org'"
      ]
     },
     "metadata": {},
     "execution_count": 144
    }
   ],
   "metadata": {}
  },
  {
   "cell_type": "markdown",
   "source": [
    "##### Calling"
   ],
   "metadata": {}
  },
  {
   "cell_type": "code",
   "execution_count": 145,
   "source": [
    "# See Above\n",
    "print(emp_1.full_name())\n",
    "print(Employee.full_name(emp_2))"
   ],
   "outputs": [
    {
     "output_type": "stream",
     "name": "stdout",
     "text": [
      "Leo Messi\n",
      "Sergio Aguero\n"
     ]
    }
   ],
   "metadata": {}
  },
  {
   "cell_type": "markdown",
   "source": [
    "##### Modifying an Attribute's Value Through a Method"
   ],
   "metadata": {}
  },
  {
   "cell_type": "code",
   "execution_count": 146,
   "source": [
    "print(emp_1.__dict__)\n",
    "emp_1.change_last_name('Stanton')\n",
    "print(emp_1.__dict__)"
   ],
   "outputs": [
    {
     "output_type": "stream",
     "name": "stdout",
     "text": [
      "{'first': 'Leo', 'last': 'Messi', 'salary': 50000, 'email': 'Leo.Messi@company.org'}\n",
      "{'first': 'Leo', 'last': 'Stanton', 'salary': 50000, 'email': 'Leo.Stanton@company.org'}\n"
     ]
    }
   ],
   "metadata": {
    "scrolled": true
   }
  },
  {
   "cell_type": "code",
   "execution_count": 147,
   "source": [
    "print(emp_2.full_name())\n",
    "Employee.change_last_name(emp_2, 'Smith')\n",
    "print(emp_2.full_name())"
   ],
   "outputs": [
    {
     "output_type": "stream",
     "name": "stdout",
     "text": [
      "Sergio Aguero\n",
      "Sergio Smith\n"
     ]
    }
   ],
   "metadata": {
    "scrolled": true
   }
  },
  {
   "cell_type": "markdown",
   "source": [
    "##### Incrementing an Attribute's Value Through a Method"
   ],
   "metadata": {}
  },
  {
   "cell_type": "code",
   "execution_count": 148,
   "source": [
    "print(emp_2.salary)\n",
    "emp_2.apply_raise()\n",
    "print(emp_2.salary)\n",
    "emp_2.apply_raise()\n",
    "print(emp_2.salary)"
   ],
   "outputs": [
    {
     "output_type": "stream",
     "name": "stdout",
     "text": [
      "100000\n",
      "105000\n",
      "110250\n"
     ]
    }
   ],
   "metadata": {}
  },
  {
   "cell_type": "code",
   "execution_count": 149,
   "source": [
    "emp_1.raise_amount = 1.10"
   ],
   "outputs": [],
   "metadata": {}
  },
  {
   "cell_type": "code",
   "execution_count": 150,
   "source": [
    "print(emp_1.salary)\n",
    "emp_1.apply_raise()\n",
    "print(emp_1.salary)"
   ],
   "outputs": [
    {
     "output_type": "stream",
     "name": "stdout",
     "text": [
      "50000\n",
      "55000\n"
     ]
    }
   ],
   "metadata": {
    "scrolled": true
   }
  },
  {
   "cell_type": "markdown",
   "source": [
    "##### Adding an Attribute Through a Method"
   ],
   "metadata": {}
  },
  {
   "cell_type": "code",
   "execution_count": 153,
   "source": [
    "emp_1.add_health_benefits('BCBS-IL')\n",
    "print(emp_1.__dict__)"
   ],
   "outputs": [
    {
     "output_type": "stream",
     "name": "stdout",
     "text": [
      "{'first': 'Leo', 'last': 'Messi', 'salary': 50000, 'email': 'Leo.Messi@company.org', 'insurance': 'BCBS-IL'}\n"
     ]
    }
   ],
   "metadata": {}
  },
  {
   "cell_type": "code",
   "execution_count": 154,
   "source": [
    "print(emp_2.__dict__)"
   ],
   "outputs": [
    {
     "output_type": "stream",
     "name": "stdout",
     "text": [
      "{'first': 'Sergio', 'last': 'Aguero', 'salary': 100000, 'email': 'Sergio.Aguero@company.org'}\n"
     ]
    }
   ],
   "metadata": {}
  },
  {
   "cell_type": "code",
   "execution_count": 151,
   "source": [
    "help(Employee)"
   ],
   "outputs": [
    {
     "output_type": "stream",
     "name": "stdout",
     "text": [
      "Help on class Employee in module __main__:\n",
      "\n",
      "class Employee(builtins.object)\n",
      " |  Employee(first, last, salary)\n",
      " |  \n",
      " |  Methods defined here:\n",
      " |  \n",
      " |  __init__(self, first, last, salary)\n",
      " |      Initialize self.  See help(type(self)) for accurate signature.\n",
      " |  \n",
      " |  apply_raise(self)\n",
      " |  \n",
      " |  change_last_name(self, last)\n",
      " |  \n",
      " |  full_name(self)\n",
      " |  \n",
      " |  ----------------------------------------------------------------------\n",
      " |  Data descriptors defined here:\n",
      " |  \n",
      " |  __dict__\n",
      " |      dictionary for instance variables (if defined)\n",
      " |  \n",
      " |  __weakref__\n",
      " |      list of weak references to the object (if defined)\n",
      " |  \n",
      " |  ----------------------------------------------------------------------\n",
      " |  Data and other attributes defined here:\n",
      " |  \n",
      " |  raise_amount = 1.05\n",
      "\n"
     ]
    }
   ],
   "metadata": {}
  },
  {
   "cell_type": "markdown",
   "source": [
    "##### In-Class Exercise #3 - Add a method that takes in three parameters of year, doors and seats and prints out a formatted print statement with make, model, year, seats, and doors"
   ],
   "metadata": {}
  },
  {
   "cell_type": "code",
   "execution_count": 1,
   "source": [
    "# Create class with 2 paramters inside of the __init__ which are make and model\n",
    "\n",
    "# Inside of the Car class create a method that has 4 parameter in total (self,year,door,seats)\n",
    "\n",
    "# Output: This car is from 2019 and is a Ford Expolorer and has 4 doors and 5 seats\n",
    "\n"
   ],
   "outputs": [],
   "metadata": {}
  },
  {
   "cell_type": "markdown",
   "source": [
    "## Inheritance <br>\n",
    "<p>You can create a child-parent relationship between two classes by using inheritance. What this allows you to do is have overriding methods, but also inherit traits from the parent class. Think of it as an actual parent and child, the child will inherit the parent's genes, as will the classes in OOP</p>"
   ],
   "metadata": {}
  },
  {
   "cell_type": "markdown",
   "source": [
    "##### Syntax for Inheriting from a Parent Class"
   ],
   "metadata": {}
  },
  {
   "cell_type": "code",
   "execution_count": 173,
   "source": [
    "# Create a Parent Class\n",
    "class Animal():\n",
    "    alive = True\n",
    "    \n",
    "    def __init__(self, name, species, legs=4):\n",
    "        self.name = name\n",
    "        self.species = species\n",
    "        self.legs = legs\n",
    "        \n",
    "    def make_sound(self):\n",
    "        print(\"Some Generic Sound\")\n",
    "        \n",
    "\n",
    "# Create a Child Class\n",
    "class Dog(Animal):\n",
    "    \n",
    "    # Constructor Method to override inherited class    \n",
    "    def __init__(self, name, species, color, legs=4):\n",
    "        Animal.__init__(self, name, species, legs)\n",
    "        self.color = color\n",
    "    \n",
    "    def print_info(self):\n",
    "        if self.alive:\n",
    "            print(f\"{self.name} has {self.legs} legs, {self.color} fur, and is a {self.species}\")\n",
    "        else:\n",
    "            print(f\"This dog has passed\")\n",
    "        \n",
    "dog = Dog('Lassie', 'Collie', 'golden')  \n",
    "dog.make_sound()\n",
    "# dog.alive = False\n",
    "dog.print_info()"
   ],
   "outputs": [
    {
     "output_type": "stream",
     "name": "stdout",
     "text": [
      "Some Generic Sound\n",
      "Lassie has 4 legs, golden fur, and is a Collie\n"
     ]
    }
   ],
   "metadata": {}
  },
  {
   "cell_type": "code",
   "execution_count": 174,
   "source": [
    "help(Dog)"
   ],
   "outputs": [
    {
     "output_type": "stream",
     "name": "stdout",
     "text": [
      "Help on class Dog in module __main__:\n",
      "\n",
      "class Dog(Animal)\n",
      " |  Dog(name, species, color, legs=4)\n",
      " |  \n",
      " |  Method resolution order:\n",
      " |      Dog\n",
      " |      Animal\n",
      " |      builtins.object\n",
      " |  \n",
      " |  Methods defined here:\n",
      " |  \n",
      " |  __init__(self, name, species, color, legs=4)\n",
      " |      Initialize self.  See help(type(self)) for accurate signature.\n",
      " |  \n",
      " |  print_info(self)\n",
      " |  \n",
      " |  ----------------------------------------------------------------------\n",
      " |  Methods inherited from Animal:\n",
      " |  \n",
      " |  make_sound(self)\n",
      " |  \n",
      " |  ----------------------------------------------------------------------\n",
      " |  Data descriptors inherited from Animal:\n",
      " |  \n",
      " |  __dict__\n",
      " |      dictionary for instance variables (if defined)\n",
      " |  \n",
      " |  __weakref__\n",
      " |      list of weak references to the object (if defined)\n",
      " |  \n",
      " |  ----------------------------------------------------------------------\n",
      " |  Data and other attributes inherited from Animal:\n",
      " |  \n",
      " |  alive = True\n",
      "\n"
     ]
    }
   ],
   "metadata": {}
  },
  {
   "cell_type": "markdown",
   "source": [
    "##### The \\__init\\__() Method for a Child Class - super()"
   ],
   "metadata": {}
  },
  {
   "cell_type": "code",
   "execution_count": 2,
   "source": [
    "class Animal():\n",
    "    alive = True\n",
    "    \n",
    "    def __init__(self, name, species, legs=4):\n",
    "        self.name = name\n",
    "        self.species = species\n",
    "        self.legs = legs\n",
    "        \n",
    "    def make_sound(self):\n",
    "        print(\"Some Generic Sound\")\n",
    "        \n",
    "\n",
    "# Create a Child Class\n",
    "class Dog(Animal):\n",
    "    \n",
    "    def print_info(self):\n",
    "        if self.alive:\n",
    "            return f\"{self.name} has {self.legs} legs, {self.color} fur, and is a {self.species}\"\n",
    "        else:\n",
    "            print(f\"This dog has passed\")\n",
    "            \n",
    "# Create GrandChild Class\n",
    "class Mutt(Dog):\n",
    "    \n",
    "    def __init__(self, name, species, color, legs=4):\n",
    "        super().__init__(name, species, legs)\n",
    "        self.color = color\n",
    "        \n",
    "    def print_info(self):\n",
    "        output = super().print_info()\n",
    "        output += \" and is a very good dog\"\n",
    "        return output\n",
    "    \n",
    "    def go_for_walk(self):\n",
    "        return 'Walk!'\n",
    "    \n",
    "    def make_sound(self):\n",
    "        print(\"Woof woof!\")\n",
    "        \n",
    "buster = Mutt('Buster', 'Mutt', 'black/brown')\n"
   ],
   "outputs": [],
   "metadata": {
    "scrolled": true
   }
  },
  {
   "cell_type": "code",
   "execution_count": 3,
   "source": [
    "new_dog = Mutt('Spot', 'Dalmation', 'spots')\n",
    "new_dog.go_for_walk()"
   ],
   "outputs": [
    {
     "output_type": "execute_result",
     "data": {
      "text/plain": [
       "'Walk!'"
      ]
     },
     "metadata": {},
     "execution_count": 3
    }
   ],
   "metadata": {}
  },
  {
   "cell_type": "code",
   "execution_count": 194,
   "source": [
    "buster.print_info()\n",
    "buster.make_sound()"
   ],
   "outputs": [
    {
     "output_type": "stream",
     "name": "stdout",
     "text": [
      "Woof woof!\n"
     ]
    }
   ],
   "metadata": {
    "scrolled": true
   }
  },
  {
   "cell_type": "code",
   "execution_count": 182,
   "source": [
    "help(Mutt)"
   ],
   "outputs": [
    {
     "output_type": "stream",
     "name": "stdout",
     "text": [
      "Help on class Mutt in module __main__:\n",
      "\n",
      "class Mutt(Dog)\n",
      " |  Mutt(name, species, color, legs=4)\n",
      " |  \n",
      " |  Method resolution order:\n",
      " |      Mutt\n",
      " |      Dog\n",
      " |      Animal\n",
      " |      builtins.object\n",
      " |  \n",
      " |  Methods defined here:\n",
      " |  \n",
      " |  __init__(self, name, species, color, legs=4)\n",
      " |      Initialize self.  See help(type(self)) for accurate signature.\n",
      " |  \n",
      " |  ----------------------------------------------------------------------\n",
      " |  Methods inherited from Dog:\n",
      " |  \n",
      " |  print_info(self)\n",
      " |  \n",
      " |  ----------------------------------------------------------------------\n",
      " |  Methods inherited from Animal:\n",
      " |  \n",
      " |  make_sound(self)\n",
      " |  \n",
      " |  ----------------------------------------------------------------------\n",
      " |  Data descriptors inherited from Animal:\n",
      " |  \n",
      " |  __dict__\n",
      " |      dictionary for instance variables (if defined)\n",
      " |  \n",
      " |  __weakref__\n",
      " |      list of weak references to the object (if defined)\n",
      " |  \n",
      " |  ----------------------------------------------------------------------\n",
      " |  Data and other attributes inherited from Animal:\n",
      " |  \n",
      " |  alive = True\n",
      "\n"
     ]
    }
   ],
   "metadata": {}
  },
  {
   "cell_type": "markdown",
   "source": [
    "##### Defining Attributes and Methods for the Child Class"
   ],
   "metadata": {}
  },
  {
   "cell_type": "code",
   "execution_count": null,
   "source": [
    "# See Above"
   ],
   "outputs": [],
   "metadata": {}
  },
  {
   "cell_type": "markdown",
   "source": [
    "##### Method Overriding"
   ],
   "metadata": {}
  },
  {
   "cell_type": "code",
   "execution_count": null,
   "source": [
    "# See Above"
   ],
   "outputs": [],
   "metadata": {}
  },
  {
   "cell_type": "markdown",
   "source": [
    "## Classes as Attributes <br>\n",
    "<p>Classes can also be used as attributes within another class. This is useful in situations where you need to keep variables locally stored, instead of globally stored.</p>"
   ],
   "metadata": {}
  },
  {
   "cell_type": "code",
   "execution_count": 195,
   "source": [
    "class Battery():\n",
    "    volts = 7.8\n",
    "    \n",
    "    def __init__(self, cells):\n",
    "        self.cells = cells\n",
    "        \n",
    "        \n",
    "class Car():\n",
    "    def __init__(self, year, make, model, battery):\n",
    "        self.year = year\n",
    "        self.make = make\n",
    "        self.model = model\n",
    "        self.battery = battery\n",
    "        \n",
    "\n",
    "battery = Battery(20)\n",
    "\n",
    "tesla = Car(2019, 'Tesla', 'Model X', battery)"
   ],
   "outputs": [],
   "metadata": {}
  },
  {
   "cell_type": "code",
   "execution_count": 201,
   "source": [
    "tesla.battery.volts"
   ],
   "outputs": [
    {
     "output_type": "execute_result",
     "data": {
      "text/plain": [
       "7.8"
      ]
     },
     "metadata": {},
     "execution_count": 201
    }
   ],
   "metadata": {}
  },
  {
   "cell_type": "code",
   "execution_count": null,
   "source": [
    "from IPython.display import clear_output\n",
    "​\n",
    "class Cart:\n",
    "    my cart=Cart ()\n",
    "    def __init__(self, product):\n",
    "        self.product = product\n",
    "        self.cart = []\n",
    "    \n",
    "def run():\n",
    "    response = input('What would you like us to do? Add/Delete/Show or Quit ').lower()\n",
    "    while response.lower() != 'quit'\n",
    "        if response.lower() == 'show':\n",
    "            print (Employee(product))\n",
    "        elif response.lower() == 'add':\n",
    "            product = input('What would you like to add to your cart?')\n",
    "            \n",
    "        elif response.lower() == 'delete':\n",
    "            pass\n",
    "        else:\n",
    "            response.title() = input(\"We don't recognize your request. Please input something else. \")\n",
    "  \n",
    "\n",
    "run()"
   ],
   "outputs": [],
   "metadata": {}
  },
  {
   "cell_type": "markdown",
   "source": [
    "# Exercises"
   ],
   "metadata": {}
  },
  {
   "cell_type": "markdown",
   "source": [
    "### Exercise 1 - Turn the shopping cart program from yesterday into an object-oriented program"
   ],
   "metadata": {}
  },
  {
   "cell_type": "code",
   "execution_count": null,
   "source": [],
   "outputs": [],
   "metadata": {}
  },
  {
   "cell_type": "code",
   "execution_count": null,
   "source": [
    "    \n",
    "def run():\n",
    "    response = input('What would you like us to do? Add/Delete/Show or Quit ').lower()\n",
    "    while response.lower() != 'quit'\n",
    "        \n",
    "        elif response.lower() == 'show':\n",
    "            show.cart()\n",
    "        elif response.lower() == 'add':\n",
    "            product = input('What would you like to add to your cart?')\n",
    "            \n",
    "        elif response.lower() == 'delete':\n",
    "            pass\n",
    "        else:\n",
    "            response.title() = input(\"We don't recognize your request. Please input something else. \")\n",
    "  \n",
    "\n",
    "run()"
   ],
   "outputs": [],
   "metadata": {}
  },
  {
   "cell_type": "markdown",
   "source": [
    "### Exercise 2 - Write a Python class which has two methods get_String and print_String. get_String accept a string from the user and print_String print the string in upper case"
   ],
   "metadata": {}
  },
  {
   "cell_type": "code",
   "execution_count": null,
   "source": [],
   "outputs": [],
   "metadata": {}
  }
 ],
 "metadata": {
  "kernelspec": {
   "display_name": "Python 3",
   "language": "python",
   "name": "python3"
  },
  "language_info": {
   "codemirror_mode": {
    "name": "ipython",
    "version": 3
   },
   "file_extension": ".py",
   "mimetype": "text/x-python",
   "name": "python",
   "nbconvert_exporter": "python",
   "pygments_lexer": "ipython3",
   "version": "3.8.8"
  }
 },
 "nbformat": 4,
 "nbformat_minor": 2
}